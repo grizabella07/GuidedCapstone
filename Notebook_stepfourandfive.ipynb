{
 "cells": [
  {
   "cell_type": "markdown",
   "metadata": {
    "colab_type": "text",
    "id": "cf5CmXQCZyF1"
   },
   "source": [
    "# Guided Capstone Step 4. Pre-Processing and Training Data Development"
   ]
  },
  {
   "cell_type": "markdown",
   "metadata": {
    "colab_type": "text",
    "id": "b2jue2jPGJlt"
   },
   "source": [
    "**The Data Science Method**  \n",
    "\n",
    "\n",
    "1.   Problem Identification \n",
    "\n",
    "\n",
    "2.   Data Wrangling \n",
    "  \n",
    " \n",
    "3.   Exploratory Data Analysis   \n",
    "\n",
    "4.   **Pre-processing and Training Data Development**  \n",
    " * Create dummy or indicator features for categorical variables\n",
    "  * Standardize the magnitude of numeric features\n",
    "  * Split into testing and training datasets\n",
    "  * Apply scaler to the testing set\n",
    "5.   Modeling \n",
    "  * Fit Models with Training Data Set\n",
    "  * Review Model Outcomes — Iterate over additional models as needed.\n",
    "  * Identify the Final Model\n",
    "\n",
    "6.   Documentation\n",
    "  * Review the Results\n",
    "  * Present and share your findings - storytelling\n",
    "  * Finalize Code \n",
    "  * Finalize Documentation"
   ]
  },
  {
   "cell_type": "markdown",
   "metadata": {
    "colab_type": "text",
    "id": "K8xfkAqqZyF2"
   },
   "source": [
    "**<font color='teal'> Start by loading the necessary packages as we did in step 3 and printing out our current working directory just to confirm we are in the correct project directory. </font>**"
   ]
  },
  {
   "cell_type": "code",
   "execution_count": 1,
   "metadata": {
    "colab": {},
    "colab_type": "code",
    "id": "ry6WPL5eZyF3"
   },
   "outputs": [],
   "source": [
    "import os\n",
    "import pandas as pd\n",
    "import datetime\n",
    "import seaborn as sns\n",
    "import matplotlib.pyplot as plt\n",
    "import numpy as np\n",
    "%matplotlib inline"
   ]
  },
  {
   "cell_type": "markdown",
   "metadata": {
    "colab_type": "text",
    "id": "630T-ogRZyF8"
   },
   "source": [
    "**<font color='teal'>  Load the csv file you created in step 3, remember it should be saved inside your data subfolder and print the first five rows.</font>**"
   ]
  },
  {
   "cell_type": "code",
   "execution_count": 2,
   "metadata": {
    "colab": {},
    "colab_type": "code",
    "id": "dMNbk0u3ZyF9"
   },
   "outputs": [
    {
     "data": {
      "text/html": [
       "<div>\n",
       "<style scoped>\n",
       "    .dataframe tbody tr th:only-of-type {\n",
       "        vertical-align: middle;\n",
       "    }\n",
       "\n",
       "    .dataframe tbody tr th {\n",
       "        vertical-align: top;\n",
       "    }\n",
       "\n",
       "    .dataframe thead th {\n",
       "        text-align: right;\n",
       "    }\n",
       "</style>\n",
       "<table border=\"1\" class=\"dataframe\">\n",
       "  <thead>\n",
       "    <tr style=\"text-align: right;\">\n",
       "      <th></th>\n",
       "      <th>Name</th>\n",
       "      <th>state</th>\n",
       "      <th>summit_elev</th>\n",
       "      <th>vertical_drop</th>\n",
       "      <th>base_elev</th>\n",
       "      <th>trams</th>\n",
       "      <th>fastEight</th>\n",
       "      <th>fastSixes</th>\n",
       "      <th>fastQuads</th>\n",
       "      <th>quad</th>\n",
       "      <th>...</th>\n",
       "      <th>LongestRun_mi</th>\n",
       "      <th>SkiableTerrain_ac</th>\n",
       "      <th>Snow Making_ac</th>\n",
       "      <th>daysOpenLastYear</th>\n",
       "      <th>yearsOpen</th>\n",
       "      <th>averageSnowfall</th>\n",
       "      <th>AdultWeekday</th>\n",
       "      <th>AdultWeekend</th>\n",
       "      <th>projectedDaysOpen</th>\n",
       "      <th>NightSkiing_ac</th>\n",
       "    </tr>\n",
       "  </thead>\n",
       "  <tbody>\n",
       "    <tr>\n",
       "      <td>0</td>\n",
       "      <td>Alyeska Resort</td>\n",
       "      <td>Alaska</td>\n",
       "      <td>3939</td>\n",
       "      <td>2500</td>\n",
       "      <td>250</td>\n",
       "      <td>1</td>\n",
       "      <td>0.0</td>\n",
       "      <td>0</td>\n",
       "      <td>2</td>\n",
       "      <td>2</td>\n",
       "      <td>...</td>\n",
       "      <td>1.0</td>\n",
       "      <td>1610.0</td>\n",
       "      <td>113.0</td>\n",
       "      <td>150.0</td>\n",
       "      <td>60.0</td>\n",
       "      <td>669.0</td>\n",
       "      <td>65.0</td>\n",
       "      <td>85.0</td>\n",
       "      <td>150.0</td>\n",
       "      <td>550.0</td>\n",
       "    </tr>\n",
       "    <tr>\n",
       "      <td>1</td>\n",
       "      <td>Eaglecrest Ski Area</td>\n",
       "      <td>Alaska</td>\n",
       "      <td>2600</td>\n",
       "      <td>1540</td>\n",
       "      <td>1200</td>\n",
       "      <td>0</td>\n",
       "      <td>0.0</td>\n",
       "      <td>0</td>\n",
       "      <td>0</td>\n",
       "      <td>0</td>\n",
       "      <td>...</td>\n",
       "      <td>2.0</td>\n",
       "      <td>640.0</td>\n",
       "      <td>60.0</td>\n",
       "      <td>45.0</td>\n",
       "      <td>44.0</td>\n",
       "      <td>350.0</td>\n",
       "      <td>47.0</td>\n",
       "      <td>53.0</td>\n",
       "      <td>90.0</td>\n",
       "      <td>0.0</td>\n",
       "    </tr>\n",
       "    <tr>\n",
       "      <td>2</td>\n",
       "      <td>Hilltop Ski Area</td>\n",
       "      <td>Alaska</td>\n",
       "      <td>2090</td>\n",
       "      <td>294</td>\n",
       "      <td>1796</td>\n",
       "      <td>0</td>\n",
       "      <td>0.0</td>\n",
       "      <td>0</td>\n",
       "      <td>0</td>\n",
       "      <td>0</td>\n",
       "      <td>...</td>\n",
       "      <td>1.0</td>\n",
       "      <td>30.0</td>\n",
       "      <td>30.0</td>\n",
       "      <td>150.0</td>\n",
       "      <td>36.0</td>\n",
       "      <td>69.0</td>\n",
       "      <td>30.0</td>\n",
       "      <td>34.0</td>\n",
       "      <td>152.0</td>\n",
       "      <td>30.0</td>\n",
       "    </tr>\n",
       "    <tr>\n",
       "      <td>3</td>\n",
       "      <td>Arizona Snowbowl</td>\n",
       "      <td>Arizona</td>\n",
       "      <td>11500</td>\n",
       "      <td>2300</td>\n",
       "      <td>9200</td>\n",
       "      <td>0</td>\n",
       "      <td>0.0</td>\n",
       "      <td>1</td>\n",
       "      <td>0</td>\n",
       "      <td>2</td>\n",
       "      <td>...</td>\n",
       "      <td>2.0</td>\n",
       "      <td>777.0</td>\n",
       "      <td>104.0</td>\n",
       "      <td>122.0</td>\n",
       "      <td>81.0</td>\n",
       "      <td>260.0</td>\n",
       "      <td>89.0</td>\n",
       "      <td>89.0</td>\n",
       "      <td>122.0</td>\n",
       "      <td>0.0</td>\n",
       "    </tr>\n",
       "    <tr>\n",
       "      <td>4</td>\n",
       "      <td>Sunrise Park Resort</td>\n",
       "      <td>Arizona</td>\n",
       "      <td>11100</td>\n",
       "      <td>1800</td>\n",
       "      <td>9200</td>\n",
       "      <td>0</td>\n",
       "      <td>0.0</td>\n",
       "      <td>0</td>\n",
       "      <td>1</td>\n",
       "      <td>2</td>\n",
       "      <td>...</td>\n",
       "      <td>1.2</td>\n",
       "      <td>800.0</td>\n",
       "      <td>80.0</td>\n",
       "      <td>115.0</td>\n",
       "      <td>49.0</td>\n",
       "      <td>250.0</td>\n",
       "      <td>74.0</td>\n",
       "      <td>78.0</td>\n",
       "      <td>104.0</td>\n",
       "      <td>80.0</td>\n",
       "    </tr>\n",
       "  </tbody>\n",
       "</table>\n",
       "<p>5 rows × 26 columns</p>\n",
       "</div>"
      ],
      "text/plain": [
       "                  Name    state  summit_elev  vertical_drop  base_elev  trams  \\\n",
       "0       Alyeska Resort   Alaska         3939           2500        250      1   \n",
       "1  Eaglecrest Ski Area   Alaska         2600           1540       1200      0   \n",
       "2     Hilltop Ski Area   Alaska         2090            294       1796      0   \n",
       "3     Arizona Snowbowl  Arizona        11500           2300       9200      0   \n",
       "4  Sunrise Park Resort  Arizona        11100           1800       9200      0   \n",
       "\n",
       "   fastEight  fastSixes  fastQuads  quad  ...  LongestRun_mi  \\\n",
       "0        0.0          0          2     2  ...            1.0   \n",
       "1        0.0          0          0     0  ...            2.0   \n",
       "2        0.0          0          0     0  ...            1.0   \n",
       "3        0.0          1          0     2  ...            2.0   \n",
       "4        0.0          0          1     2  ...            1.2   \n",
       "\n",
       "   SkiableTerrain_ac  Snow Making_ac  daysOpenLastYear  yearsOpen  \\\n",
       "0             1610.0           113.0             150.0       60.0   \n",
       "1              640.0            60.0              45.0       44.0   \n",
       "2               30.0            30.0             150.0       36.0   \n",
       "3              777.0           104.0             122.0       81.0   \n",
       "4              800.0            80.0             115.0       49.0   \n",
       "\n",
       "   averageSnowfall  AdultWeekday  AdultWeekend  projectedDaysOpen  \\\n",
       "0            669.0          65.0          85.0              150.0   \n",
       "1            350.0          47.0          53.0               90.0   \n",
       "2             69.0          30.0          34.0              152.0   \n",
       "3            260.0          89.0          89.0              122.0   \n",
       "4            250.0          74.0          78.0              104.0   \n",
       "\n",
       "   NightSkiing_ac  \n",
       "0           550.0  \n",
       "1             0.0  \n",
       "2            30.0  \n",
       "3             0.0  \n",
       "4            80.0  \n",
       "\n",
       "[5 rows x 26 columns]"
      ]
     },
     "execution_count": 2,
     "metadata": {},
     "output_type": "execute_result"
    }
   ],
   "source": [
    "df = pd.read_csv('step3_output.csv')\n",
    "del df['Unnamed: 0']\n",
    "df.head(5)"
   ]
  },
  {
   "cell_type": "markdown",
   "metadata": {
    "colab_type": "text",
    "id": "zkBHf9smZyGB"
   },
   "source": [
    "## Create dummy features for categorical variables"
   ]
  },
  {
   "cell_type": "markdown",
   "metadata": {
    "colab_type": "text",
    "id": "vWKHm0NhAnrJ"
   },
   "source": [
    "**<font color='teal'> Create dummy variables for `state`. Add the dummies back to the dataframe and remove the original column for `state`. </font>**\n",
    "\n",
    "Hint: you can see an example of how to execute this in Aiden's article on preprocessing [here](https://medium.com/@aiden.dataminer/the-data-science-method-dsm-pre-processing-and-training-data-development-fd2d75182967). "
   ]
  },
  {
   "cell_type": "code",
   "execution_count": 3,
   "metadata": {
    "colab": {},
    "colab_type": "code",
    "id": "lZqWk8ltZyGZ"
   },
   "outputs": [
    {
     "data": {
      "text/html": [
       "<div>\n",
       "<style scoped>\n",
       "    .dataframe tbody tr th:only-of-type {\n",
       "        vertical-align: middle;\n",
       "    }\n",
       "\n",
       "    .dataframe tbody tr th {\n",
       "        vertical-align: top;\n",
       "    }\n",
       "\n",
       "    .dataframe thead th {\n",
       "        text-align: right;\n",
       "    }\n",
       "</style>\n",
       "<table border=\"1\" class=\"dataframe\">\n",
       "  <thead>\n",
       "    <tr style=\"text-align: right;\">\n",
       "      <th></th>\n",
       "      <th>Name</th>\n",
       "      <th>summit_elev</th>\n",
       "      <th>vertical_drop</th>\n",
       "      <th>base_elev</th>\n",
       "      <th>trams</th>\n",
       "      <th>fastEight</th>\n",
       "      <th>fastSixes</th>\n",
       "      <th>fastQuads</th>\n",
       "      <th>quad</th>\n",
       "      <th>triple</th>\n",
       "      <th>...</th>\n",
       "      <th>Rhode Island</th>\n",
       "      <th>South Dakota</th>\n",
       "      <th>Tennessee</th>\n",
       "      <th>Utah</th>\n",
       "      <th>Vermont</th>\n",
       "      <th>Virginia</th>\n",
       "      <th>Washington</th>\n",
       "      <th>West Virginia</th>\n",
       "      <th>Wisconsin</th>\n",
       "      <th>Wyoming</th>\n",
       "    </tr>\n",
       "  </thead>\n",
       "  <tbody>\n",
       "    <tr>\n",
       "      <td>0</td>\n",
       "      <td>Alyeska Resort</td>\n",
       "      <td>3939</td>\n",
       "      <td>2500</td>\n",
       "      <td>250</td>\n",
       "      <td>1</td>\n",
       "      <td>0.0</td>\n",
       "      <td>0</td>\n",
       "      <td>2</td>\n",
       "      <td>2</td>\n",
       "      <td>0</td>\n",
       "      <td>...</td>\n",
       "      <td>0</td>\n",
       "      <td>0</td>\n",
       "      <td>0</td>\n",
       "      <td>0</td>\n",
       "      <td>0</td>\n",
       "      <td>0</td>\n",
       "      <td>0</td>\n",
       "      <td>0</td>\n",
       "      <td>0</td>\n",
       "      <td>0</td>\n",
       "    </tr>\n",
       "    <tr>\n",
       "      <td>1</td>\n",
       "      <td>Eaglecrest Ski Area</td>\n",
       "      <td>2600</td>\n",
       "      <td>1540</td>\n",
       "      <td>1200</td>\n",
       "      <td>0</td>\n",
       "      <td>0.0</td>\n",
       "      <td>0</td>\n",
       "      <td>0</td>\n",
       "      <td>0</td>\n",
       "      <td>0</td>\n",
       "      <td>...</td>\n",
       "      <td>0</td>\n",
       "      <td>0</td>\n",
       "      <td>0</td>\n",
       "      <td>0</td>\n",
       "      <td>0</td>\n",
       "      <td>0</td>\n",
       "      <td>0</td>\n",
       "      <td>0</td>\n",
       "      <td>0</td>\n",
       "      <td>0</td>\n",
       "    </tr>\n",
       "    <tr>\n",
       "      <td>2</td>\n",
       "      <td>Hilltop Ski Area</td>\n",
       "      <td>2090</td>\n",
       "      <td>294</td>\n",
       "      <td>1796</td>\n",
       "      <td>0</td>\n",
       "      <td>0.0</td>\n",
       "      <td>0</td>\n",
       "      <td>0</td>\n",
       "      <td>0</td>\n",
       "      <td>1</td>\n",
       "      <td>...</td>\n",
       "      <td>0</td>\n",
       "      <td>0</td>\n",
       "      <td>0</td>\n",
       "      <td>0</td>\n",
       "      <td>0</td>\n",
       "      <td>0</td>\n",
       "      <td>0</td>\n",
       "      <td>0</td>\n",
       "      <td>0</td>\n",
       "      <td>0</td>\n",
       "    </tr>\n",
       "    <tr>\n",
       "      <td>3</td>\n",
       "      <td>Arizona Snowbowl</td>\n",
       "      <td>11500</td>\n",
       "      <td>2300</td>\n",
       "      <td>9200</td>\n",
       "      <td>0</td>\n",
       "      <td>0.0</td>\n",
       "      <td>1</td>\n",
       "      <td>0</td>\n",
       "      <td>2</td>\n",
       "      <td>2</td>\n",
       "      <td>...</td>\n",
       "      <td>0</td>\n",
       "      <td>0</td>\n",
       "      <td>0</td>\n",
       "      <td>0</td>\n",
       "      <td>0</td>\n",
       "      <td>0</td>\n",
       "      <td>0</td>\n",
       "      <td>0</td>\n",
       "      <td>0</td>\n",
       "      <td>0</td>\n",
       "    </tr>\n",
       "    <tr>\n",
       "      <td>4</td>\n",
       "      <td>Sunrise Park Resort</td>\n",
       "      <td>11100</td>\n",
       "      <td>1800</td>\n",
       "      <td>9200</td>\n",
       "      <td>0</td>\n",
       "      <td>0.0</td>\n",
       "      <td>0</td>\n",
       "      <td>1</td>\n",
       "      <td>2</td>\n",
       "      <td>3</td>\n",
       "      <td>...</td>\n",
       "      <td>0</td>\n",
       "      <td>0</td>\n",
       "      <td>0</td>\n",
       "      <td>0</td>\n",
       "      <td>0</td>\n",
       "      <td>0</td>\n",
       "      <td>0</td>\n",
       "      <td>0</td>\n",
       "      <td>0</td>\n",
       "      <td>0</td>\n",
       "    </tr>\n",
       "  </tbody>\n",
       "</table>\n",
       "<p>5 rows × 60 columns</p>\n",
       "</div>"
      ],
      "text/plain": [
       "                  Name  summit_elev  vertical_drop  base_elev  trams  \\\n",
       "0       Alyeska Resort         3939           2500        250      1   \n",
       "1  Eaglecrest Ski Area         2600           1540       1200      0   \n",
       "2     Hilltop Ski Area         2090            294       1796      0   \n",
       "3     Arizona Snowbowl        11500           2300       9200      0   \n",
       "4  Sunrise Park Resort        11100           1800       9200      0   \n",
       "\n",
       "   fastEight  fastSixes  fastQuads  quad  triple  ...  Rhode Island  \\\n",
       "0        0.0          0          2     2       0  ...             0   \n",
       "1        0.0          0          0     0       0  ...             0   \n",
       "2        0.0          0          0     0       1  ...             0   \n",
       "3        0.0          1          0     2       2  ...             0   \n",
       "4        0.0          0          1     2       3  ...             0   \n",
       "\n",
       "   South Dakota  Tennessee  Utah  Vermont  Virginia  Washington  \\\n",
       "0             0          0     0        0         0           0   \n",
       "1             0          0     0        0         0           0   \n",
       "2             0          0     0        0         0           0   \n",
       "3             0          0     0        0         0           0   \n",
       "4             0          0     0        0         0           0   \n",
       "\n",
       "   West Virginia  Wisconsin  Wyoming  \n",
       "0              0          0        0  \n",
       "1              0          0        0  \n",
       "2              0          0        0  \n",
       "3              0          0        0  \n",
       "4              0          0        0  \n",
       "\n",
       "[5 rows x 60 columns]"
      ]
     },
     "execution_count": 3,
     "metadata": {},
     "output_type": "execute_result"
    }
   ],
   "source": [
    "dummies = pd.get_dummies(df['state'])\n",
    "#should above be df['state'] or 'state'?\n",
    "del df['state']\n",
    "df = pd.concat([df,dummies],axis=1)\n",
    "df.head(5)"
   ]
  },
  {
   "cell_type": "code",
   "execution_count": 4,
   "metadata": {},
   "outputs": [
    {
     "data": {
      "text/plain": [
       "Index(['Name', 'summit_elev', 'vertical_drop', 'base_elev', 'trams',\n",
       "       'fastEight', 'fastSixes', 'fastQuads', 'quad', 'triple', 'double',\n",
       "       'surface', 'total_chairs', 'Runs', 'TerrainParks', 'LongestRun_mi',\n",
       "       'SkiableTerrain_ac', 'Snow Making_ac', 'daysOpenLastYear', 'yearsOpen',\n",
       "       'averageSnowfall', 'AdultWeekday', 'AdultWeekend', 'projectedDaysOpen',\n",
       "       'NightSkiing_ac', 'Alaska', 'Arizona', 'California', 'Colorado',\n",
       "       'Connecticut', 'Idaho', 'Illinois', 'Indiana', 'Iowa', 'Maine',\n",
       "       'Maryland', 'Massachusetts', 'Michigan', 'Minnesota', 'Missouri',\n",
       "       'Montana', 'Nevada', 'New Hampshire', 'New Jersey', 'New Mexico',\n",
       "       'New York', 'North Carolina', 'Ohio', 'Oregon', 'Pennsylvania',\n",
       "       'Rhode Island', 'South Dakota', 'Tennessee', 'Utah', 'Vermont',\n",
       "       'Virginia', 'Washington', 'West Virginia', 'Wisconsin', 'Wyoming'],\n",
       "      dtype='object')"
      ]
     },
     "execution_count": 4,
     "metadata": {},
     "output_type": "execute_result"
    }
   ],
   "source": [
    "df.columns"
   ]
  },
  {
   "cell_type": "markdown",
   "metadata": {
    "colab_type": "text",
    "id": "HnDVhE1-ZyGF"
   },
   "source": [
    "## Standardize the magnitude of numeric features"
   ]
  },
  {
   "cell_type": "markdown",
   "metadata": {
    "colab": {},
    "colab_type": "code",
    "id": "gW3D-WlDZyGG"
   },
   "source": [
    "**<font color='teal'> Using sklearn preprocessing standardize the scale of the features of the dataframe except the name of the resort which we done't need in the dataframe for modeling, so it can be droppped here as well. Also, we want to hold out our response variable(s) so we can have their true values available for model performance review. Let's set `AdultWeekend` to the y variable as our response for scaling and modeling. Later we will go back and consider the `AdultWeekday`, `dayOpenLastYear`, and `projectedDaysOpen`. For now leave them in the development dataframe. </font>**"
   ]
  },
  {
   "cell_type": "code",
   "execution_count": 5,
   "metadata": {
    "colab": {},
    "colab_type": "code",
    "id": "IZL-q-KtAYI6"
   },
   "outputs": [],
   "source": [
    "# first we import the preprocessing package from the sklearn library\n",
    "from sklearn import preprocessing\n",
    "\n",
    "# Declare an explanatory variable, called X,and assign it the result of dropping 'Name' and 'AdultWeekend' from the df\n",
    "X = df.drop(['Name','AdultWeekend'], axis=1)\n",
    "\n",
    "# Declare a response variable, called y, and assign it the AdultWeekend column of the df \n",
    "y = df.AdultWeekend\n",
    "\n",
    "# Here we use the StandardScaler() method of the preprocessing package, and then call the fit() method with parameter X \n",
    "scaler = preprocessing.StandardScaler().fit(X)\n",
    "\n",
    "# Declare a variable called X_scaled, and assign it the result of calling the transform() method with parameter X \n",
    "X_scaled=scaler.transform(X) "
   ]
  },
  {
   "cell_type": "markdown",
   "metadata": {
    "colab_type": "text",
    "id": "GAT8h4_mZyGK"
   },
   "source": [
    "## Split into training and testing datasets"
   ]
  },
  {
   "cell_type": "markdown",
   "metadata": {
    "colab_type": "text",
    "id": "6rdS8EGeAnrW"
   },
   "source": [
    "**<font color='teal'> Using sklearn model selection import train_test_split, and create a 75/25 split with the y = `AdultWeekend`. We will start by using the adult weekend ticket price as our response variable for modeling.</font>**"
   ]
  },
  {
   "cell_type": "code",
   "execution_count": 6,
   "metadata": {
    "colab": {},
    "colab_type": "code",
    "id": "BSkPut0gguds"
   },
   "outputs": [],
   "source": [
    "# Import the train_test_split function from the sklearn.model_selection utility.  \n",
    "from sklearn.model_selection import train_test_split\n",
    "\n",
    "# Get the 1-dimensional flattened array of our response variable y by calling the ravel() function on y\n",
    "y = y.ravel()\n",
    "\n",
    "# Call the train_test_split() function with the first two parameters set to X_scaled and y \n",
    "# Declare four variables, X_train, X_test, y_train and y_test separated by commas \n",
    "X_train, X_test, y_train, y_test = train_test_split(X_scaled, y, test_size=0.25, random_state=1)"
   ]
  },
  {
   "cell_type": "markdown",
   "metadata": {
    "colab_type": "text",
    "id": "UayqbwkWAnra"
   },
   "source": [
    "Here we start the actual modeling work. First let's fit a multiple linear regression model to predict the `AdultWeekend` price."
   ]
  },
  {
   "cell_type": "markdown",
   "metadata": {
    "colab_type": "text",
    "id": "83fkLldXFCNd"
   },
   "source": [
    "# Guided Capstone Step 5. Modeling\n"
   ]
  },
  {
   "cell_type": "markdown",
   "metadata": {
    "colab_type": "text",
    "id": "JbZXsVevfr9M"
   },
   "source": [
    "This is the fifth step in the Data Science Method. In the previous steps you cleaned and prepared the datasets. Now it's time to get into the most exciting part: modeling! In this exercise, you'll build three different models and compare each model's performance. In the end, you'll choose the best model for demonstrating insights to Big Mountain management.\n",
    "\n",
    "\n",
    "\n",
    "### **The Data Science Method**  \n",
    "\n",
    "\n",
    "1.   Problem Identification \n",
    "\n",
    "2.   Data Wrangling \n",
    "  \n",
    "3.   Exploratory Data Analysis \n",
    " \n",
    "4.   Pre-processing and Training Data Development\n",
    "\n",
    "5.   **Modeling**\n",
    "  * Fit Models with Training Data Set\n",
    "  * Review Model Outcomes — Iterate over additional models as needed.\n",
    "  * Identify the Final Model\n",
    "\n",
    "6.   Documentation\n",
    "  * Review the Results\n",
    "  * Present and share your findings - storytelling\n",
    "  * Finalize Code \n",
    "  * Finalize Documentation"
   ]
  },
  {
   "cell_type": "markdown",
   "metadata": {
    "colab_type": "text",
    "id": "D_wfsP_-Anra"
   },
   "source": [
    "## Fit Models with a Training Dataset"
   ]
  },
  {
   "cell_type": "markdown",
   "metadata": {
    "colab_type": "text",
    "id": "CoI8S5SwAnrc"
   },
   "source": [
    "**<font color='teal'> Using sklearn, fit the model on your training dataset.</font>**"
   ]
  },
  {
   "cell_type": "markdown",
   "metadata": {
    "colab_type": "text",
    "id": "P_GFr8sRAnrd"
   },
   "source": [
    "#### Model 1"
   ]
  },
  {
   "cell_type": "code",
   "execution_count": 7,
   "metadata": {
    "colab": {},
    "colab_type": "code",
    "id": "fW6K7uOPAnre"
   },
   "outputs": [],
   "source": [
    "#all first model set\n",
    "from sklearn import linear_model\n",
    "from sklearn.metrics import explained_variance_score,mean_absolute_error\n",
    "lm = linear_model.LinearRegression()\n",
    "model = lm.fit(X_train,y_train)"
   ]
  },
  {
   "cell_type": "markdown",
   "metadata": {
    "colab_type": "text",
    "id": "1fHqz9-WAnrg"
   },
   "source": [
    "**<font color='teal'> Predict on the testing dataset and score the model performance with the y_test set and the y-pred values. The explained variance is a measure of the variation explained by the model. This is also known as the R-squared value. </font>**\n",
    "\n",
    "Hint: you will have to use the `predict()` method here as it's used in this [DSM article](https://medium.com/@aiden.dataminer/the-data-science-method-dsm-modeling-56b4233cad1b) about modeling. "
   ]
  },
  {
   "cell_type": "code",
   "execution_count": 8,
   "metadata": {
    "colab": {},
    "colab_type": "code",
    "id": "nIo01lFEAnrh"
   },
   "outputs": [],
   "source": [
    "# Make a variable called y_pred and assign it the result of calling predict() on our model variable with parameter X_test\n",
    "y_pred = model.predict(X_test)"
   ]
  },
  {
   "cell_type": "markdown",
   "metadata": {
    "colab_type": "text",
    "id": "N4YS0WE2Anrk"
   },
   "source": [
    "## Review Model Outcomes — Iterate over additional models as needed"
   ]
  },
  {
   "cell_type": "code",
   "execution_count": 9,
   "metadata": {
    "colab": {},
    "colab_type": "code",
    "id": "HSh9sGIYAnrk"
   },
   "outputs": [
    {
     "data": {
      "text/plain": [
       "0.9353233910443898"
      ]
     },
     "execution_count": 9,
     "metadata": {},
     "output_type": "execute_result"
    }
   ],
   "source": [
    "# You might want to use the explained_variance_score() and mean_absolute_error() metrics.\n",
    "# To do so, you will need to import them from sklearn.metrics. \n",
    "# You can plug y_test and y_pred into the functions to evaluate the model\n",
    "explained_variance_score(y_test,y_pred)"
   ]
  },
  {
   "cell_type": "code",
   "execution_count": 10,
   "metadata": {
    "colab": {},
    "colab_type": "code",
    "id": "ihzeo8tqAnro"
   },
   "outputs": [
    {
     "data": {
      "text/plain": [
       "5.0712645805987835"
      ]
     },
     "execution_count": 10,
     "metadata": {},
     "output_type": "execute_result"
    }
   ],
   "source": [
    "mean_absolute_error(y_test,y_pred)"
   ]
  },
  {
   "cell_type": "markdown",
   "metadata": {
    "colab_type": "text",
    "id": "NWJcOuSdAnrr"
   },
   "source": [
    "**<font color='teal'> Print the intercept value from the linear model. </font>**\n",
    "\n",
    "Hint: our linear regression model `lm` has an attribute `intercept_` for the intercept"
   ]
  },
  {
   "cell_type": "code",
   "execution_count": 11,
   "metadata": {
    "colab": {},
    "colab_type": "code",
    "id": "3WzWejn6Anrt"
   },
   "outputs": [
    {
     "data": {
      "text/plain": [
       "64.11704663823181"
      ]
     },
     "execution_count": 11,
     "metadata": {},
     "output_type": "execute_result"
    }
   ],
   "source": [
    "lm.intercept_"
   ]
  },
  {
   "cell_type": "markdown",
   "metadata": {
    "colab_type": "text",
    "id": "edajrenAAnrv"
   },
   "source": [
    "**<font color='teal'> The intercept is the mean `AdultWeekend` price for all the resorts given the other characteristics. The addition or subtraction of each of the coefficient values in the regression are numeric adjustments applied to the intercept to provide a particular observation's value for the resulting `AdultWeekend` value. Also, because we took the time to scale our x values in the training data, we can compare each of the coeeficients for the features to determine the feature importances. Print the coefficient values from the linear model and sort in descending order to identify the top ten most important features.</font>** \n",
    "\n",
    "\n",
    "Hint: make sure to review the absolute value of the coefficients, because the adjustment may be positive or negative, but what we are looking for is the magnitude of impact on our response variable."
   ]
  },
  {
   "cell_type": "code",
   "execution_count": 12,
   "metadata": {
    "colab": {},
    "colab_type": "code",
    "id": "FEKc_lmZAnrw"
   },
   "outputs": [
    {
     "data": {
      "text/html": [
       "<div>\n",
       "<style scoped>\n",
       "    .dataframe tbody tr th:only-of-type {\n",
       "        vertical-align: middle;\n",
       "    }\n",
       "\n",
       "    .dataframe tbody tr th {\n",
       "        vertical-align: top;\n",
       "    }\n",
       "\n",
       "    .dataframe thead th {\n",
       "        text-align: right;\n",
       "    }\n",
       "</style>\n",
       "<table border=\"1\" class=\"dataframe\">\n",
       "  <thead>\n",
       "    <tr style=\"text-align: right;\">\n",
       "      <th></th>\n",
       "      <th>Coefficient</th>\n",
       "    </tr>\n",
       "  </thead>\n",
       "  <tbody>\n",
       "    <tr>\n",
       "      <td>total_chairs</td>\n",
       "      <td>2.826244e+13</td>\n",
       "    </tr>\n",
       "    <tr>\n",
       "      <td>fastQuads</td>\n",
       "      <td>1.071436e+13</td>\n",
       "    </tr>\n",
       "    <tr>\n",
       "      <td>surface</td>\n",
       "      <td>1.003855e+13</td>\n",
       "    </tr>\n",
       "    <tr>\n",
       "      <td>double</td>\n",
       "      <td>8.846341e+12</td>\n",
       "    </tr>\n",
       "    <tr>\n",
       "      <td>triple</td>\n",
       "      <td>7.891544e+12</td>\n",
       "    </tr>\n",
       "    <tr>\n",
       "      <td>quad</td>\n",
       "      <td>6.395804e+12</td>\n",
       "    </tr>\n",
       "    <tr>\n",
       "      <td>fastSixes</td>\n",
       "      <td>3.176276e+12</td>\n",
       "    </tr>\n",
       "    <tr>\n",
       "      <td>New York</td>\n",
       "      <td>2.980499e+12</td>\n",
       "    </tr>\n",
       "    <tr>\n",
       "      <td>Michigan</td>\n",
       "      <td>2.812781e+12</td>\n",
       "    </tr>\n",
       "    <tr>\n",
       "      <td>trams</td>\n",
       "      <td>2.729145e+12</td>\n",
       "    </tr>\n",
       "    <tr>\n",
       "      <td>Colorado</td>\n",
       "      <td>2.478223e+12</td>\n",
       "    </tr>\n",
       "    <tr>\n",
       "      <td>California</td>\n",
       "      <td>2.425172e+12</td>\n",
       "    </tr>\n",
       "    <tr>\n",
       "      <td>Pennsylvania</td>\n",
       "      <td>2.314252e+12</td>\n",
       "    </tr>\n",
       "    <tr>\n",
       "      <td>New Hampshire</td>\n",
       "      <td>2.133922e+12</td>\n",
       "    </tr>\n",
       "    <tr>\n",
       "      <td>Wisconsin</td>\n",
       "      <td>2.133922e+12</td>\n",
       "    </tr>\n",
       "    <tr>\n",
       "      <td>Vermont</td>\n",
       "      <td>2.069448e+12</td>\n",
       "    </tr>\n",
       "    <tr>\n",
       "      <td>Minnesota</td>\n",
       "      <td>2.002448e+12</td>\n",
       "    </tr>\n",
       "    <tr>\n",
       "      <td>Utah</td>\n",
       "      <td>1.932658e+12</td>\n",
       "    </tr>\n",
       "    <tr>\n",
       "      <td>Idaho</td>\n",
       "      <td>1.859764e+12</td>\n",
       "    </tr>\n",
       "    <tr>\n",
       "      <td>Montana</td>\n",
       "      <td>1.859764e+12</td>\n",
       "    </tr>\n",
       "    <tr>\n",
       "      <td>Massachusetts</td>\n",
       "      <td>1.783386e+12</td>\n",
       "    </tr>\n",
       "    <tr>\n",
       "      <td>Washington</td>\n",
       "      <td>1.703055e+12</td>\n",
       "    </tr>\n",
       "    <tr>\n",
       "      <td>Oregon</td>\n",
       "      <td>1.703055e+12</td>\n",
       "    </tr>\n",
       "    <tr>\n",
       "      <td>Maine</td>\n",
       "      <td>1.618182e+12</td>\n",
       "    </tr>\n",
       "    <tr>\n",
       "      <td>New Mexico</td>\n",
       "      <td>1.618182e+12</td>\n",
       "    </tr>\n",
       "    <tr>\n",
       "      <td>Wyoming</td>\n",
       "      <td>1.528012e+12</td>\n",
       "    </tr>\n",
       "    <tr>\n",
       "      <td>North Carolina</td>\n",
       "      <td>1.327400e+12</td>\n",
       "    </tr>\n",
       "    <tr>\n",
       "      <td>Connecticut</td>\n",
       "      <td>1.213614e+12</td>\n",
       "    </tr>\n",
       "    <tr>\n",
       "      <td>Ohio</td>\n",
       "      <td>1.213614e+12</td>\n",
       "    </tr>\n",
       "    <tr>\n",
       "      <td>West Virginia</td>\n",
       "      <td>1.087158e+12</td>\n",
       "    </tr>\n",
       "    <tr>\n",
       "      <td>Virginia</td>\n",
       "      <td>1.087158e+12</td>\n",
       "    </tr>\n",
       "    <tr>\n",
       "      <td>Illinois</td>\n",
       "      <td>1.087158e+12</td>\n",
       "    </tr>\n",
       "    <tr>\n",
       "      <td>Nevada</td>\n",
       "      <td>1.087158e+12</td>\n",
       "    </tr>\n",
       "    <tr>\n",
       "      <td>Alaska</td>\n",
       "      <td>9.429490e+11</td>\n",
       "    </tr>\n",
       "    <tr>\n",
       "      <td>Iowa</td>\n",
       "      <td>9.429490e+11</td>\n",
       "    </tr>\n",
       "    <tr>\n",
       "      <td>New Jersey</td>\n",
       "      <td>7.710910e+11</td>\n",
       "    </tr>\n",
       "    <tr>\n",
       "      <td>Missouri</td>\n",
       "      <td>7.710910e+11</td>\n",
       "    </tr>\n",
       "    <tr>\n",
       "      <td>Indiana</td>\n",
       "      <td>7.710910e+11</td>\n",
       "    </tr>\n",
       "    <tr>\n",
       "      <td>Arizona</td>\n",
       "      <td>7.710910e+11</td>\n",
       "    </tr>\n",
       "    <tr>\n",
       "      <td>South Dakota</td>\n",
       "      <td>7.710910e+11</td>\n",
       "    </tr>\n",
       "    <tr>\n",
       "      <td>Tennessee</td>\n",
       "      <td>5.460742e+11</td>\n",
       "    </tr>\n",
       "    <tr>\n",
       "      <td>Maryland</td>\n",
       "      <td>5.460742e+11</td>\n",
       "    </tr>\n",
       "    <tr>\n",
       "      <td>Rhode Island</td>\n",
       "      <td>5.460742e+11</td>\n",
       "    </tr>\n",
       "    <tr>\n",
       "      <td>fastEight</td>\n",
       "      <td>2.683017e+11</td>\n",
       "    </tr>\n",
       "    <tr>\n",
       "      <td>AdultWeekday</td>\n",
       "      <td>1.926685e+01</td>\n",
       "    </tr>\n",
       "    <tr>\n",
       "      <td>summit_elev</td>\n",
       "      <td>1.843116e+01</td>\n",
       "    </tr>\n",
       "    <tr>\n",
       "      <td>base_elev</td>\n",
       "      <td>1.771496e+01</td>\n",
       "    </tr>\n",
       "    <tr>\n",
       "      <td>vertical_drop</td>\n",
       "      <td>5.679780e+00</td>\n",
       "    </tr>\n",
       "    <tr>\n",
       "      <td>NightSkiing_ac</td>\n",
       "      <td>7.910156e-01</td>\n",
       "    </tr>\n",
       "    <tr>\n",
       "      <td>LongestRun_mi</td>\n",
       "      <td>4.345703e-01</td>\n",
       "    </tr>\n",
       "    <tr>\n",
       "      <td>Runs</td>\n",
       "      <td>4.208984e-01</td>\n",
       "    </tr>\n",
       "    <tr>\n",
       "      <td>yearsOpen</td>\n",
       "      <td>3.796387e-01</td>\n",
       "    </tr>\n",
       "    <tr>\n",
       "      <td>daysOpenLastYear</td>\n",
       "      <td>3.730469e-01</td>\n",
       "    </tr>\n",
       "    <tr>\n",
       "      <td>averageSnowfall</td>\n",
       "      <td>3.520508e-01</td>\n",
       "    </tr>\n",
       "    <tr>\n",
       "      <td>Snow Making_ac</td>\n",
       "      <td>3.113022e-01</td>\n",
       "    </tr>\n",
       "    <tr>\n",
       "      <td>SkiableTerrain_ac</td>\n",
       "      <td>2.050781e-01</td>\n",
       "    </tr>\n",
       "    <tr>\n",
       "      <td>TerrainParks</td>\n",
       "      <td>1.679688e-01</td>\n",
       "    </tr>\n",
       "    <tr>\n",
       "      <td>projectedDaysOpen</td>\n",
       "      <td>1.311035e-01</td>\n",
       "    </tr>\n",
       "  </tbody>\n",
       "</table>\n",
       "</div>"
      ],
      "text/plain": [
       "                    Coefficient\n",
       "total_chairs       2.826244e+13\n",
       "fastQuads          1.071436e+13\n",
       "surface            1.003855e+13\n",
       "double             8.846341e+12\n",
       "triple             7.891544e+12\n",
       "quad               6.395804e+12\n",
       "fastSixes          3.176276e+12\n",
       "New York           2.980499e+12\n",
       "Michigan           2.812781e+12\n",
       "trams              2.729145e+12\n",
       "Colorado           2.478223e+12\n",
       "California         2.425172e+12\n",
       "Pennsylvania       2.314252e+12\n",
       "New Hampshire      2.133922e+12\n",
       "Wisconsin          2.133922e+12\n",
       "Vermont            2.069448e+12\n",
       "Minnesota          2.002448e+12\n",
       "Utah               1.932658e+12\n",
       "Idaho              1.859764e+12\n",
       "Montana            1.859764e+12\n",
       "Massachusetts      1.783386e+12\n",
       "Washington         1.703055e+12\n",
       "Oregon             1.703055e+12\n",
       "Maine              1.618182e+12\n",
       "New Mexico         1.618182e+12\n",
       "Wyoming            1.528012e+12\n",
       "North Carolina     1.327400e+12\n",
       "Connecticut        1.213614e+12\n",
       "Ohio               1.213614e+12\n",
       "West Virginia      1.087158e+12\n",
       "Virginia           1.087158e+12\n",
       "Illinois           1.087158e+12\n",
       "Nevada             1.087158e+12\n",
       "Alaska             9.429490e+11\n",
       "Iowa               9.429490e+11\n",
       "New Jersey         7.710910e+11\n",
       "Missouri           7.710910e+11\n",
       "Indiana            7.710910e+11\n",
       "Arizona            7.710910e+11\n",
       "South Dakota       7.710910e+11\n",
       "Tennessee          5.460742e+11\n",
       "Maryland           5.460742e+11\n",
       "Rhode Island       5.460742e+11\n",
       "fastEight          2.683017e+11\n",
       "AdultWeekday       1.926685e+01\n",
       "summit_elev        1.843116e+01\n",
       "base_elev          1.771496e+01\n",
       "vertical_drop      5.679780e+00\n",
       "NightSkiing_ac     7.910156e-01\n",
       "LongestRun_mi      4.345703e-01\n",
       "Runs               4.208984e-01\n",
       "yearsOpen          3.796387e-01\n",
       "daysOpenLastYear   3.730469e-01\n",
       "averageSnowfall    3.520508e-01\n",
       "Snow Making_ac     3.113022e-01\n",
       "SkiableTerrain_ac  2.050781e-01\n",
       "TerrainParks       1.679688e-01\n",
       "projectedDaysOpen  1.311035e-01"
      ]
     },
     "execution_count": 12,
     "metadata": {},
     "output_type": "execute_result"
    }
   ],
   "source": [
    "# You might want to make a pandas DataFrame displaying the coefficients for each state like so: \n",
    "df1 = pd.DataFrame(abs(lm.coef_), X.columns, columns=['Coefficient'])\n",
    "df1.sort_values(by='Coefficient',ascending=False)"
   ]
  },
  {
   "cell_type": "markdown",
   "metadata": {
    "colab_type": "text",
    "id": "BpdALMoAAnry"
   },
   "source": [
    "**<font color='teal'>You should see that the top ten important features are different states. However, the state is not something the managers at the Big Mountain Resort can do anything about. Given that we care more about actionable traits associated with ticket pricing, rebuild the model without the state features and compare the results. </font>**\n",
    "\n",
    "Hint: Try to construct another model using exactly the steps we followed above. "
   ]
  },
  {
   "cell_type": "markdown",
   "metadata": {
    "colab_type": "text",
    "id": "-mHYA1BzAnrz"
   },
   "source": [
    "#### Model 2"
   ]
  },
  {
   "cell_type": "code",
   "execution_count": 15,
   "metadata": {
    "colab": {},
    "colab_type": "code",
    "id": "Pz1YXAdiAnr0"
   },
   "outputs": [],
   "source": [
    "X = df.drop(['Name','AdultWeekend','Alaska', 'Arizona', 'California', 'Colorado',\n",
    "       'Connecticut', 'Idaho', 'Illinois', 'Indiana', 'Iowa', 'Maine',\n",
    "       'Maryland', 'Massachusetts', 'Michigan', 'Minnesota', 'Missouri',\n",
    "       'Montana', 'Nevada', 'New Hampshire', 'New Jersey', 'New Mexico',\n",
    "       'New York', 'North Carolina', 'Ohio', 'Oregon', 'Pennsylvania',\n",
    "       'Rhode Island', 'South Dakota', 'Tennessee', 'Utah', 'Vermont',\n",
    "       'Virginia', 'Washington', 'West Virginia', 'Wisconsin', 'Wyoming'], axis=1)\n",
    "\n",
    "y = df.AdultWeekend\n",
    "\n"
   ]
  },
  {
   "cell_type": "code",
   "execution_count": 16,
   "metadata": {},
   "outputs": [],
   "source": [
    "# Here we use the StandardScaler() method of the preprocessing package, and then call the fit() method with parameter X \n",
    "scaler = preprocessing.StandardScaler().fit(X)\n",
    "\n",
    "# Declare a variable called X_scaled, and assign it the result of calling the transform() method with parameter X \n",
    "X_scaled=scaler.transform(X) \n",
    "\n",
    "# Get the 1-dimensional flattened array of our response variable y by calling the ravel() function on y\n",
    "y = y.ravel()\n",
    "\n",
    "# Call the train_test_split() function with the first two parameters set to X_scaled and y \n",
    "# Declare four variables, X_train, X_test, y_train and y_test separated by commas \n",
    "X_train, X_test, y_train, y_test = train_test_split(X_scaled, y, test_size=0.25, random_state=1)\n",
    "\n",
    "lm = linear_model.LinearRegression()\n",
    "model = lm.fit(X_train,y_train)\n",
    "y_pred = model.predict(X_test)"
   ]
  },
  {
   "cell_type": "code",
   "execution_count": 17,
   "metadata": {
    "colab": {},
    "colab_type": "code",
    "id": "nM1EGf16Anr2"
   },
   "outputs": [
    {
     "data": {
      "text/plain": [
       "0.9244193604833097"
      ]
     },
     "execution_count": 17,
     "metadata": {},
     "output_type": "execute_result"
    }
   ],
   "source": [
    "explained_variance_score(y_test,y_pred)"
   ]
  },
  {
   "cell_type": "code",
   "execution_count": 18,
   "metadata": {},
   "outputs": [
    {
     "data": {
      "text/plain": [
       "5.5099192670842605"
      ]
     },
     "execution_count": 18,
     "metadata": {},
     "output_type": "execute_result"
    }
   ],
   "source": [
    "mean_absolute_error(y_test,y_pred)"
   ]
  },
  {
   "cell_type": "code",
   "execution_count": 19,
   "metadata": {},
   "outputs": [
    {
     "data": {
      "text/plain": [
       "64.03936971345686"
      ]
     },
     "execution_count": 19,
     "metadata": {},
     "output_type": "execute_result"
    }
   ],
   "source": [
    "lm.intercept_"
   ]
  },
  {
   "cell_type": "code",
   "execution_count": 20,
   "metadata": {},
   "outputs": [
    {
     "data": {
      "text/html": [
       "<div>\n",
       "<style scoped>\n",
       "    .dataframe tbody tr th:only-of-type {\n",
       "        vertical-align: middle;\n",
       "    }\n",
       "\n",
       "    .dataframe tbody tr th {\n",
       "        vertical-align: top;\n",
       "    }\n",
       "\n",
       "    .dataframe thead th {\n",
       "        text-align: right;\n",
       "    }\n",
       "</style>\n",
       "<table border=\"1\" class=\"dataframe\">\n",
       "  <thead>\n",
       "    <tr style=\"text-align: right;\">\n",
       "      <th></th>\n",
       "      <th>Coefficient</th>\n",
       "    </tr>\n",
       "  </thead>\n",
       "  <tbody>\n",
       "    <tr>\n",
       "      <td>AdultWeekday</td>\n",
       "      <td>20.224262</td>\n",
       "    </tr>\n",
       "    <tr>\n",
       "      <td>summit_elev</td>\n",
       "      <td>12.543815</td>\n",
       "    </tr>\n",
       "    <tr>\n",
       "      <td>base_elev</td>\n",
       "      <td>9.736447</td>\n",
       "    </tr>\n",
       "    <tr>\n",
       "      <td>vertical_drop</td>\n",
       "      <td>4.351901</td>\n",
       "    </tr>\n",
       "    <tr>\n",
       "      <td>averageSnowfall</td>\n",
       "      <td>1.929602</td>\n",
       "    </tr>\n",
       "    <tr>\n",
       "      <td>quad</td>\n",
       "      <td>1.552442</td>\n",
       "    </tr>\n",
       "    <tr>\n",
       "      <td>triple</td>\n",
       "      <td>1.388252</td>\n",
       "    </tr>\n",
       "    <tr>\n",
       "      <td>surface</td>\n",
       "      <td>1.254160</td>\n",
       "    </tr>\n",
       "    <tr>\n",
       "      <td>daysOpenLastYear</td>\n",
       "      <td>1.184864</td>\n",
       "    </tr>\n",
       "    <tr>\n",
       "      <td>Runs</td>\n",
       "      <td>1.019630</td>\n",
       "    </tr>\n",
       "    <tr>\n",
       "      <td>fastQuads</td>\n",
       "      <td>0.728626</td>\n",
       "    </tr>\n",
       "    <tr>\n",
       "      <td>total_chairs</td>\n",
       "      <td>0.691745</td>\n",
       "    </tr>\n",
       "    <tr>\n",
       "      <td>projectedDaysOpen</td>\n",
       "      <td>0.474879</td>\n",
       "    </tr>\n",
       "    <tr>\n",
       "      <td>NightSkiing_ac</td>\n",
       "      <td>0.401509</td>\n",
       "    </tr>\n",
       "    <tr>\n",
       "      <td>fastSixes</td>\n",
       "      <td>0.368502</td>\n",
       "    </tr>\n",
       "    <tr>\n",
       "      <td>SkiableTerrain_ac</td>\n",
       "      <td>0.342350</td>\n",
       "    </tr>\n",
       "    <tr>\n",
       "      <td>double</td>\n",
       "      <td>0.311942</td>\n",
       "    </tr>\n",
       "    <tr>\n",
       "      <td>yearsOpen</td>\n",
       "      <td>0.285814</td>\n",
       "    </tr>\n",
       "    <tr>\n",
       "      <td>LongestRun_mi</td>\n",
       "      <td>0.233941</td>\n",
       "    </tr>\n",
       "    <tr>\n",
       "      <td>TerrainParks</td>\n",
       "      <td>0.188894</td>\n",
       "    </tr>\n",
       "    <tr>\n",
       "      <td>trams</td>\n",
       "      <td>0.168643</td>\n",
       "    </tr>\n",
       "    <tr>\n",
       "      <td>fastEight</td>\n",
       "      <td>0.077232</td>\n",
       "    </tr>\n",
       "    <tr>\n",
       "      <td>Snow Making_ac</td>\n",
       "      <td>0.037718</td>\n",
       "    </tr>\n",
       "  </tbody>\n",
       "</table>\n",
       "</div>"
      ],
      "text/plain": [
       "                   Coefficient\n",
       "AdultWeekday         20.224262\n",
       "summit_elev          12.543815\n",
       "base_elev             9.736447\n",
       "vertical_drop         4.351901\n",
       "averageSnowfall       1.929602\n",
       "quad                  1.552442\n",
       "triple                1.388252\n",
       "surface               1.254160\n",
       "daysOpenLastYear      1.184864\n",
       "Runs                  1.019630\n",
       "fastQuads             0.728626\n",
       "total_chairs          0.691745\n",
       "projectedDaysOpen     0.474879\n",
       "NightSkiing_ac        0.401509\n",
       "fastSixes             0.368502\n",
       "SkiableTerrain_ac     0.342350\n",
       "double                0.311942\n",
       "yearsOpen             0.285814\n",
       "LongestRun_mi         0.233941\n",
       "TerrainParks          0.188894\n",
       "trams                 0.168643\n",
       "fastEight             0.077232\n",
       "Snow Making_ac        0.037718"
      ]
     },
     "execution_count": 20,
     "metadata": {},
     "output_type": "execute_result"
    }
   ],
   "source": [
    "df2 = pd.DataFrame(abs(lm.coef_), X.columns, columns=['Coefficient'])\n",
    "df2.sort_values(by='Coefficient',ascending=False)"
   ]
  },
  {
   "cell_type": "markdown",
   "metadata": {
    "colab_type": "text",
    "id": "JWjQLr3LAnr6"
   },
   "source": [
    "**<font color='teal'> When reviewing our new model coefficients, we see `summit_elev` is now in the number two spot. This is also difficult to change from a management prespective and highly correlated with `base_elev` and `vertical_drop`.  This time, rebuild the model without the state features and without the `summit_elev` and without `base_elev`and compare the results. </font>**"
   ]
  },
  {
   "cell_type": "markdown",
   "metadata": {
    "colab_type": "text",
    "id": "RXqvcn93Anr7"
   },
   "source": [
    "#### Model 3"
   ]
  },
  {
   "cell_type": "code",
   "execution_count": 21,
   "metadata": {
    "colab": {},
    "colab_type": "code",
    "id": "6eugnDNNAnr8"
   },
   "outputs": [],
   "source": [
    "X = df.drop(['Name','AdultWeekend','Alaska', 'Arizona', 'California', 'Colorado',\n",
    "       'Connecticut', 'Idaho', 'Illinois', 'Indiana', 'Iowa', 'Maine',\n",
    "       'Maryland', 'Massachusetts', 'Michigan', 'Minnesota', 'Missouri',\n",
    "       'Montana', 'Nevada', 'New Hampshire', 'New Jersey', 'New Mexico',\n",
    "       'New York', 'North Carolina', 'Ohio', 'Oregon', 'Pennsylvania',\n",
    "       'Rhode Island', 'South Dakota', 'Tennessee', 'Utah', 'Vermont',\n",
    "       'Virginia', 'Washington', 'West Virginia', 'Wisconsin', 'Wyoming','summit_elev','base_elev'], axis=1)\n",
    "\n",
    "y = df.AdultWeekend"
   ]
  },
  {
   "cell_type": "code",
   "execution_count": 22,
   "metadata": {
    "colab": {},
    "colab_type": "code",
    "id": "pq0pW7G9Anr_"
   },
   "outputs": [],
   "source": [
    "# Here we use the StandardScaler() method of the preprocessing package, and then call the fit() method with parameter X \n",
    "scaler = preprocessing.StandardScaler().fit(X)\n",
    "\n",
    "# Declare a variable called X_scaled, and assign it the result of calling the transform() method with parameter X \n",
    "X_scaled=scaler.transform(X) \n",
    "\n",
    "# Get the 1-dimensional flattened array of our response variable y by calling the ravel() function on y\n",
    "y = y.ravel()\n",
    "\n",
    "# Call the train_test_split() function with the first two parameters set to X_scaled and y \n",
    "# Declare four variables, X_train, X_test, y_train and y_test separated by commas \n",
    "X_train, X_test, y_train, y_test = train_test_split(X_scaled, y, test_size=0.25, random_state=1)\n",
    "\n",
    "lm = linear_model.LinearRegression()\n",
    "model = lm.fit(X_train,y_train)\n",
    "y_pred = model.predict(X_test)"
   ]
  },
  {
   "cell_type": "code",
   "execution_count": 23,
   "metadata": {
    "colab": {},
    "colab_type": "code",
    "id": "reXlf0HAAnsG"
   },
   "outputs": [
    {
     "data": {
      "text/plain": [
       "0.9257043387913915"
      ]
     },
     "execution_count": 23,
     "metadata": {},
     "output_type": "execute_result"
    }
   ],
   "source": [
    "explained_variance_score(y_test,y_pred)"
   ]
  },
  {
   "cell_type": "code",
   "execution_count": 24,
   "metadata": {},
   "outputs": [
    {
     "data": {
      "text/plain": [
       "5.477922321886279"
      ]
     },
     "execution_count": 24,
     "metadata": {},
     "output_type": "execute_result"
    }
   ],
   "source": [
    "mean_absolute_error(y_test,y_pred)"
   ]
  },
  {
   "cell_type": "code",
   "execution_count": 25,
   "metadata": {},
   "outputs": [
    {
     "data": {
      "text/plain": [
       "64.04022316513387"
      ]
     },
     "execution_count": 25,
     "metadata": {},
     "output_type": "execute_result"
    }
   ],
   "source": [
    "lm.intercept_"
   ]
  },
  {
   "cell_type": "code",
   "execution_count": 26,
   "metadata": {},
   "outputs": [
    {
     "data": {
      "text/html": [
       "<div>\n",
       "<style scoped>\n",
       "    .dataframe tbody tr th:only-of-type {\n",
       "        vertical-align: middle;\n",
       "    }\n",
       "\n",
       "    .dataframe tbody tr th {\n",
       "        vertical-align: top;\n",
       "    }\n",
       "\n",
       "    .dataframe thead th {\n",
       "        text-align: right;\n",
       "    }\n",
       "</style>\n",
       "<table border=\"1\" class=\"dataframe\">\n",
       "  <thead>\n",
       "    <tr style=\"text-align: right;\">\n",
       "      <th></th>\n",
       "      <th>Coefficient</th>\n",
       "    </tr>\n",
       "  </thead>\n",
       "  <tbody>\n",
       "    <tr>\n",
       "      <td>AdultWeekday</td>\n",
       "      <td>20.146958</td>\n",
       "    </tr>\n",
       "    <tr>\n",
       "      <td>averageSnowfall</td>\n",
       "      <td>2.257030</td>\n",
       "    </tr>\n",
       "    <tr>\n",
       "      <td>quad</td>\n",
       "      <td>1.595752</td>\n",
       "    </tr>\n",
       "    <tr>\n",
       "      <td>triple</td>\n",
       "      <td>1.359504</td>\n",
       "    </tr>\n",
       "    <tr>\n",
       "      <td>Runs</td>\n",
       "      <td>1.243558</td>\n",
       "    </tr>\n",
       "    <tr>\n",
       "      <td>surface</td>\n",
       "      <td>1.239287</td>\n",
       "    </tr>\n",
       "    <tr>\n",
       "      <td>vertical_drop</td>\n",
       "      <td>1.143148</td>\n",
       "    </tr>\n",
       "    <tr>\n",
       "      <td>daysOpenLastYear</td>\n",
       "      <td>1.066922</td>\n",
       "    </tr>\n",
       "    <tr>\n",
       "      <td>fastQuads</td>\n",
       "      <td>0.817298</td>\n",
       "    </tr>\n",
       "    <tr>\n",
       "      <td>total_chairs</td>\n",
       "      <td>0.741740</td>\n",
       "    </tr>\n",
       "    <tr>\n",
       "      <td>NightSkiing_ac</td>\n",
       "      <td>0.537334</td>\n",
       "    </tr>\n",
       "    <tr>\n",
       "      <td>SkiableTerrain_ac</td>\n",
       "      <td>0.439242</td>\n",
       "    </tr>\n",
       "    <tr>\n",
       "      <td>fastSixes</td>\n",
       "      <td>0.381409</td>\n",
       "    </tr>\n",
       "    <tr>\n",
       "      <td>double</td>\n",
       "      <td>0.323897</td>\n",
       "    </tr>\n",
       "    <tr>\n",
       "      <td>yearsOpen</td>\n",
       "      <td>0.305446</td>\n",
       "    </tr>\n",
       "    <tr>\n",
       "      <td>projectedDaysOpen</td>\n",
       "      <td>0.254172</td>\n",
       "    </tr>\n",
       "    <tr>\n",
       "      <td>LongestRun_mi</td>\n",
       "      <td>0.216581</td>\n",
       "    </tr>\n",
       "    <tr>\n",
       "      <td>Snow Making_ac</td>\n",
       "      <td>0.155423</td>\n",
       "    </tr>\n",
       "    <tr>\n",
       "      <td>trams</td>\n",
       "      <td>0.141125</td>\n",
       "    </tr>\n",
       "    <tr>\n",
       "      <td>TerrainParks</td>\n",
       "      <td>0.104379</td>\n",
       "    </tr>\n",
       "    <tr>\n",
       "      <td>fastEight</td>\n",
       "      <td>0.077826</td>\n",
       "    </tr>\n",
       "  </tbody>\n",
       "</table>\n",
       "</div>"
      ],
      "text/plain": [
       "                   Coefficient\n",
       "AdultWeekday         20.146958\n",
       "averageSnowfall       2.257030\n",
       "quad                  1.595752\n",
       "triple                1.359504\n",
       "Runs                  1.243558\n",
       "surface               1.239287\n",
       "vertical_drop         1.143148\n",
       "daysOpenLastYear      1.066922\n",
       "fastQuads             0.817298\n",
       "total_chairs          0.741740\n",
       "NightSkiing_ac        0.537334\n",
       "SkiableTerrain_ac     0.439242\n",
       "fastSixes             0.381409\n",
       "double                0.323897\n",
       "yearsOpen             0.305446\n",
       "projectedDaysOpen     0.254172\n",
       "LongestRun_mi         0.216581\n",
       "Snow Making_ac        0.155423\n",
       "trams                 0.141125\n",
       "TerrainParks          0.104379\n",
       "fastEight             0.077826"
      ]
     },
     "execution_count": 26,
     "metadata": {},
     "output_type": "execute_result"
    }
   ],
   "source": [
    "df3 = pd.DataFrame(abs(lm.coef_), X.columns, columns=['Coefficient'])\n",
    "df3.sort_values(by='Coefficient',ascending=False)"
   ]
  },
  {
   "cell_type": "markdown",
   "metadata": {
    "colab_type": "text",
    "id": "MJvQMns6AnsI"
   },
   "source": [
    "## Identify the Final Model"
   ]
  },
  {
   "cell_type": "markdown",
   "metadata": {
    "colab_type": "text",
    "id": "LD7-3iLcAnsK"
   },
   "source": [
    "**<font color='teal'> Review the model performances in the table below and choose the best model for proving insights to Big Mountain management about what features are driving ski resort lift ticket prices. Type your choice in the final markdown cell — you will discuss this selection more in the next step of the guided casptone. </font>**"
   ]
  },
  {
   "cell_type": "markdown",
   "metadata": {
    "colab_type": "text",
    "id": "La5S9fRPAnsK"
   },
   "source": [
    "| Model | Explained Variance| Mean Absolute Error|Features Dropped|\n",
    "| --- | --- | --- | --- |\n",
    "| Model 1. | 0. |  |-|\n",
    "| Model 2. | 0.| |'state'|\n",
    "| Model 3. | 0. | |'state','summit_elev','base_elev'|"
   ]
  },
  {
   "cell_type": "markdown",
   "metadata": {
    "colab_type": "text",
    "id": "T2c-zn7TAnsL"
   },
   "source": [
    "Model Selection:"
   ]
  },
  {
   "cell_type": "markdown",
   "metadata": {
    "colab": {},
    "colab_type": "code",
    "id": "CgC0eMBrAnsM"
   },
   "source": [
    "Model 3"
   ]
  },
  {
   "cell_type": "code",
   "execution_count": null,
   "metadata": {},
   "outputs": [],
   "source": []
  }
 ],
 "metadata": {
  "colab": {
   "collapsed_sections": [
    "RtEspslPZyGY",
    "s0DokMkAZyGc",
    "2iuitnKcZyHS",
    "iAWQxougZyHW",
    "ThMTimlBZyHZ",
    "QwZ-LkjXZyHt",
    "srtXEA3N4-Y9",
    "ChVreJupZyIA",
    "zDgSSsq1ZyID",
    "I3GYKWfi5Llg",
    "pmMvrhbI-viE",
    "ZXDPkW3UZyIX",
    "Dnc_vHQLZyId",
    "daJxuJ-dZyIg",
    "mAQ-oHiPZyIn",
    "hnGOsp3mZyIp"
   ],
   "name": "GuidedCapstoneStep5.ipynb",
   "provenance": []
  },
  "kernelspec": {
   "display_name": "Python 3",
   "language": "python",
   "name": "python3"
  },
  "language_info": {
   "codemirror_mode": {
    "name": "ipython",
    "version": 3
   },
   "file_extension": ".py",
   "mimetype": "text/x-python",
   "name": "python",
   "nbconvert_exporter": "python",
   "pygments_lexer": "ipython3",
   "version": "3.7.4"
  },
  "toc": {
   "base_numbering": "0",
   "nav_menu": {},
   "number_sections": true,
   "sideBar": true,
   "skip_h1_title": false,
   "title_cell": "Table of Contents",
   "title_sidebar": "Contents",
   "toc_cell": true,
   "toc_position": {
    "height": "calc(100% - 180px)",
    "left": "10px",
    "top": "150px",
    "width": "288px"
   },
   "toc_section_display": true,
   "toc_window_display": true
  }
 },
 "nbformat": 4,
 "nbformat_minor": 1
}
